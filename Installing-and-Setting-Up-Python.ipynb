{
 "cells": [
  {
   "cell_type": "markdown",
   "id": "e6ef427a-6f9b-42b1-8340-8a45c27eecdd",
   "metadata": {},
   "source": [
    "# Installing Python and Required Packages "
   ]
  },
  {
   "cell_type": "markdown",
   "id": "26474cdd-c2b3-4d05-990f-6ec758a46f30",
   "metadata": {},
   "source": [
    "This notebook covers the steps to install a Python distribution (specifically, Anaconda) and the necessary packages in order to perform data analysis on typical oceanographic or atmospheric data, which often comes in a NetCDF format. This is *not* intended to be an introduction to Python in general, as I would do such a broad topic no favors. For this purpose, see the wide variety of already available literature, [such as this](https://library.oapen.org/bitstream/id/56d27e73-e92a-4398-8198-239be7aacc93/2020_Book_IntroductionToScientificProgra.pdf)."
   ]
  },
  {
   "cell_type": "markdown",
   "id": "8976ff3d-a680-4f5d-928c-91f0bc1f1af0",
   "metadata": {},
   "source": [
    "#### Contents:\n",
    "- [Installing Anaconda](#Installing-Anaconda)\n",
    "- [Intro to Python Packages and Management](#A-(Very)-Brief-Introduction-to-Python-Packages-and-Management)\n",
    "- [Installing Required Packages](#Installing-Required-Packages)\n",
    "- [Wrapping Up](#Wrapping-Up-and-Testing)"
   ]
  },
  {
   "cell_type": "markdown",
   "id": "b749ab68-8dc0-41ad-9779-bc817a2666ba",
   "metadata": {},
   "source": [
    "## Installing Anaconda"
   ]
  },
  {
   "cell_type": "markdown",
   "id": "51d0ff14-6e61-4c09-a71d-7d0c2abf13bd",
   "metadata": {},
   "source": [
    "This is likely the easiest step in the notebook. Simply naviagte to [the Anaconda website](https://www.anaconda.com/products/distribution) to download their latest distribution of Python, packaged with everything you will need. Use the default installation settings. \n",
    "\n",
    "Once Anaconda is installed, you can check to make sure things worked correctly by opening an \"Anaconda Prompt\" (found under the \"Home\" tab in the Anaconda Navigator or directly on your machine). After opening Anaconda, enter the following command: \n",
    "```\n",
    ">Python\n",
    "```\n",
    "This should output:\n",
    "```\n",
    "Python 3.9.13 (main, Aug 25 2022, 23:51:50) [MSC v.1916 64 bit (AMD64)] :: Anaconda, Inc. on win32\n",
    "Type \"help\", \"copyright\", \"credits\" or \"license\" for more information.\n",
    "```\n",
    "This displays your current python version and, if it prints, everything should be running correctly. If there are any errors, you may need to reinstall Anaconda or Python. You can double check it is running by printing your first line of python code, \"Hello World\", by entering the following code:\n",
    "```\n",
    ">>> print(\"Hello World!\")\n",
    "```\n",
    "Python then outputs, as could be expected:\n",
    "```\n",
    "Hello World!\n",
    "```\n",
    "Of course, we would not want to write an entire analysis in the command prompt. Instead, we will be using an Integrated Development Environment (IDE), specifically JupyterLab, which is what this very document was written in. The next section will cover the installation of Python packages such as JupyterLab and other data analysis tools."
   ]
  },
  {
   "cell_type": "markdown",
   "id": "b8878f0f-8771-4d05-a65c-3129d8b796f5",
   "metadata": {},
   "source": [
    "## A (Very) Brief Introduction to Python Packages and Management"
   ]
  },
  {
   "cell_type": "markdown",
   "id": "af095397-b51e-4487-9861-6c84acaa5959",
   "metadata": {},
   "source": [
    "Python packages are sort of like toolboxes in that they allow you to use a screwdriver without having to build the screwdriver from scratch everytime you need it. For example, we will install a package called [physoce](https://github.com/physoce/physoce-py) which will allow you to calculate the wind stress from wind velocity without having to do all the intermediate steps in such a calculation everytime you need it. That said, you should still make an effort to understand what a package is doing before you use it blindly - they are not \"black boxes\" and are liable to fail sometimes, especially lesser used oceanographic data packages. \n",
    "\n",
    "Before installing anything, we should first understand how to *manage* packages (which is often a bigger hurdle than installing them in the first place). Sometimes packages or Python versions don't play nice with one another, so keeping things in separate \"environments\" will allow us to prevent any issues (or at least isolate them if they do pop up!). This may not be important when you are just starting your coding journey, but once you have separate packages for oceanographic analysis, application development, machine learning, and anything else, you will really start to run into problems if they are all fighting each other in your default environment. \n",
    "\n",
    "As one last brief aside before getting into things, you will notice the keywords *conda* and *pip* pop up a lot from here on out. These are simply package managers which enable and assist us in our valiant efforts towards organization and control. There is much more detail I could go into about these managers, but it is a bit outside the scope of this topic. \n",
    "\n",
    "For now, we are just going to set up a fresh environment for your oceanographic data analysis. Feel free to name it whatever you like. We also specify a specific Python version in this step, which is a very important part of package management (some packages only work on specific Python versions, so we will install version 3.9 since I have verified all the packages work with this). You can also install packages in this step, but we will leave that until later.\n",
    "```\n",
    ">conda create -n env_name python=3.9\n",
    "```\n",
    "Note that by specifying a Python version, we also install a few basic packages such as pip (another package manager). When prompted if you would like to continue, press ```y``` and hit enter. If your environment creation was successful, you can run the following lines to activate your new environment.\n",
    "```\n",
    ">conda deactivate\n",
    ">conda activate env_name\n",
    "```\n",
    "Now, instead of (base) or (default) in the parentheses, you should now see (env_name). Nice job, our environment is successfully created! Make sure you remember to activate your environment (run the last two lines) whenever you go to do oceanographic coding, or you will be left without your packages. Now on to installing packages."
   ]
  },
  {
   "cell_type": "markdown",
   "id": "5ead98bc-9818-4269-abdb-3e74d616faa7",
   "metadata": {},
   "source": [
    "## Installing Required Packages"
   ]
  },
  {
   "cell_type": "markdown",
   "id": "1804281d-d498-4595-84cc-79c9b4434077",
   "metadata": {},
   "source": [
    "All of the following packages have been verified to work with each other and with Python version 3.9 on my machine. It would probably work fine on newer python versions too, but use at your own risk (create a backup environment before making big changes such as this - done with ```>conda create --clone env_name_to_clone --name new_env_name```). You can also specify version number of packages when installing if needed, but we will not do so here.\n",
    "\n",
    "Before installing the other packages, we will install our IDE, JupyterLab, and Git, a version control and management package that allows installation of packages from Github repos.\n",
    "```\n",
    ">pip install jupyterlab\n",
    ">conda install git\n",
    "```\n",
    "Press ```y``` and enter whenever prompted. Now we can install the rest of our packages. I group them into batches so you can begin to understand what each package is for (documentation is generally good and vast amounts of information on each can be found at the project sites linked here), although this grouping is not required and they could all be installed in a couple lines. \n",
    "\n",
    "First, we install some packages used for accessing data on the web: [requests](https://pypi.org/project/requests/) (HTTP requesting) and [Beautiful Soup](https://www.crummy.com/software/BeautifulSoup/bs4/doc/) (for scraping HTML on websites).\n",
    "```\n",
    ">conda install requests bs4\n",
    "```\n",
    "You should see a whole bunch of other packages pop up when you go to install these. This is normal. These are the packages *dependencies*, i.e., the other packages required for the package we want to work. Dependencies can get messy, fast, and keeping them separate and organized is one of the primary reasons we use environments in the first place. \n",
    "\n",
    "Next, we will install basic scientific computation resources like [Numpy](https://numpy.org/) (working with arrays), [Scipy](https://scipy.org/) (interpolation, linear algebra, numerical integration), [Pandas](https://pandas.pydata.org/) (data structures for working with tables, works well with xarray), [Xarray](https://docs.xarray.dev/en/stable/) (designed for handling multi-dimensional arrays and NetCDF files, the dominant file type for oceanographic data), and [Matplotlib](https://matplotlib.org/) (plotting). \n",
    "```\n",
    ">pip install pandas matplotlib numpy xarray scipy\n",
    "```\n",
    "\n",
    "Finally, we install some oceanographic-specific packages to help with some calculations, analysis, and presentation: [airsea](https://github.com/pyoceans/python-airsea) (calculates wind stress), [physoce](https://github.com/physoce/physoce-py) (useful statistics and some wave stuff), [cmocean](https://matplotlib.org/cmocean/) (colorways for plotting oceanographic data), and [GSW](https://teos-10.github.io/GSW-Python/) (TEOS-10 Gibbs Sea Water - equations of state for seawater).\n",
    "```\n",
    ">pip install cmocean gsw git+https://github.com/physoce/physoce-py git+https://github.com/pyoceans/python-airsea.git\n",
    "```\n",
    "Note the last two installed packages use links to their respective github repositories, since they are most up to date there. "
   ]
  },
  {
   "cell_type": "markdown",
   "id": "1bd132ea-7da3-4aa5-b7e7-5af8fad6fa31",
   "metadata": {},
   "source": [
    "## Wrapping Up and Testing"
   ]
  },
  {
   "cell_type": "markdown",
   "id": "cf8ee293-50ce-45f4-9fc0-ef43677468c4",
   "metadata": {},
   "source": [
    "You should now be able to open an Anaconda Prompt, activate your new environment with \n",
    "```\n",
    ">conda deactivate\n",
    ">conda activate env_name\n",
    "```\n",
    "navigate to the directory of your soon-to-be project with \n",
    "```\n",
    ">cd C:\\your_path_here\n",
    "```\n",
    "then run your Jupyter Lab IDE with \n",
    "```\n",
    ">jupyter lab\n",
    "```\n",
    "You should now see a browser open with the Jupyter Lab IDE and all the packages ready to go. However, we're not quite done yet. To actually use our installed packages, we have to import them into each project. Open a new notebook and, in the first cell, paste the code:\n",
    "```\n",
    "import requests, bs4, numpy, scipy, pandas, xarray, matplotlib, airsea, physoce, cmocean, gsw\n",
    "```\n",
    "If this runs without error, you are good to go! Do be aware that the way I showed you above is generally *not* how you want to import packages, since this installs all of the modules within the package. Instead, to keep code efficient, try your best to import only the modules you will need (e.g., ```import matplotlib.pyplot``` only imports the pyplot module from the package matplotlib. You can also rename at this step (e.g., numpy is traditionally imported as ```import numpy as np```), but all these details are beyond this introduction.\n",
    "\n",
    "If your import does not run, you're one of the lucky ones who will get a hands-on experience diagnosing and fixing a bug - a valuable skill! Read the error code and identify the problem package. It may need reinstalled, or you may have used an incompatible Python version, or maybe there is a problem specific to your machine or Python install. "
   ]
  },
  {
   "cell_type": "markdown",
   "id": "7b1c75c7-db42-4956-ad7e-dec3addd9afb",
   "metadata": {},
   "source": [
    "### Congratulations! Your Python install should be good to go and you are well on your way to do some awesome analysis on oceanographic datasets. "
   ]
  }
 ],
 "metadata": {
  "kernelspec": {
   "display_name": "Python 3 (ipykernel)",
   "language": "python",
   "name": "python3"
  },
  "language_info": {
   "codemirror_mode": {
    "name": "ipython",
    "version": 3
   },
   "file_extension": ".py",
   "mimetype": "text/x-python",
   "name": "python",
   "nbconvert_exporter": "python",
   "pygments_lexer": "ipython3",
   "version": "3.9.7"
  }
 },
 "nbformat": 4,
 "nbformat_minor": 5
}
